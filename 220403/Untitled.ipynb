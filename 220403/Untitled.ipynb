{
 "cells": [
  {
   "cell_type": "code",
   "execution_count": 3,
   "id": "73c17ac5",
   "metadata": {},
   "outputs": [],
   "source": [
    "with open(\"test.txt\",\"r\") as f:\n",
    "    lines = f.read()\n"
   ]
  },
  {
   "cell_type": "code",
   "execution_count": 4,
   "id": "2e77591f",
   "metadata": {},
   "outputs": [
    {
     "data": {
      "text/plain": [
       "'variable dx equal input_dx\\nvariable dy equal input_dy\\nvariable dz equal input_dz\\n\\nmass 1 input_mass\\nmass 2 input_mass'"
      ]
     },
     "execution_count": 4,
     "metadata": {},
     "output_type": "execute_result"
    }
   ],
   "source": [
    "lines"
   ]
  },
  {
   "cell_type": "code",
   "execution_count": 5,
   "id": "47f6f4f1",
   "metadata": {},
   "outputs": [],
   "source": [
    "dx = 1"
   ]
  },
  {
   "cell_type": "code",
   "execution_count": 9,
   "id": "98b6392b",
   "metadata": {},
   "outputs": [],
   "source": [
    "modified_lines = lines.replace(\"input_dx\",f\"{dx}\")"
   ]
  },
  {
   "cell_type": "code",
   "execution_count": 10,
   "id": "70568d7f",
   "metadata": {},
   "outputs": [],
   "source": [
    "with open(\"test_modified.txt\",\"w\") as f:\n",
    "    f.write(modified_lines)"
   ]
  },
  {
   "cell_type": "code",
   "execution_count": 26,
   "id": "2f4565ab",
   "metadata": {},
   "outputs": [],
   "source": [
    "with open(\"proto.in\",\"r\") as f:\n",
    "    lines = f.read()"
   ]
  },
  {
   "cell_type": "code",
   "execution_count": 32,
   "id": "dd0c219c",
   "metadata": {},
   "outputs": [],
   "source": [
    "from Element import Element"
   ]
  },
  {
   "cell_type": "code",
   "execution_count": 33,
   "id": "e8b34cad",
   "metadata": {},
   "outputs": [],
   "source": [
    "Cu = Element(\"Cu\")"
   ]
  },
  {
   "cell_type": "code",
   "execution_count": 34,
   "id": "ff8ea08c",
   "metadata": {},
   "outputs": [],
   "source": [
    "dx = -1\n",
    "dy = 1.81\n",
    "dz = -4\n",
    "mass = Cu.mass()\n",
    "element = Cu.element\n",
    "grand_energy = Cu.grand()"
   ]
  },
  {
   "cell_type": "code",
   "execution_count": 35,
   "id": "f1451eae",
   "metadata": {},
   "outputs": [],
   "source": [
    "modified_lines = lines.replace(\"input_dx\",f\"{dx}\").replace(\"input_dy\",f\"{dy}\")\\\n",
    "                    .replace(\"input_dz\",f\"{dz}\").replace(\"input_mass\",f\"{mass}\")\\\n",
    "                    .replace(\"input_element\",f\"{element}\").replace(\"input_grand_energy\",f\"{grand_energy}\")"
   ]
  },
  {
   "cell_type": "code",
   "execution_count": 36,
   "id": "60c642ce",
   "metadata": {},
   "outputs": [],
   "source": [
    "with open(\"proto_modify.in\",\"w\") as f:\n",
    "    f.write(modified_lines)"
   ]
  },
  {
   "cell_type": "code",
   "execution_count": null,
   "id": "1cb1d4e5",
   "metadata": {},
   "outputs": [],
   "source": []
  },
  {
   "cell_type": "code",
   "execution_count": null,
   "id": "5caa487d",
   "metadata": {},
   "outputs": [],
   "source": []
  },
  {
   "cell_type": "code",
   "execution_count": null,
   "id": "a48856a6",
   "metadata": {},
   "outputs": [],
   "source": []
  },
  {
   "cell_type": "code",
   "execution_count": null,
   "id": "55b5c4c0",
   "metadata": {},
   "outputs": [],
   "source": []
  },
  {
   "cell_type": "code",
   "execution_count": null,
   "id": "bf90197e",
   "metadata": {},
   "outputs": [],
   "source": []
  }
 ],
 "metadata": {
  "kernelspec": {
   "display_name": "Python 3 (ipykernel)",
   "language": "python",
   "name": "python3"
  },
  "language_info": {
   "codemirror_mode": {
    "name": "ipython",
    "version": 3
   },
   "file_extension": ".py",
   "mimetype": "text/x-python",
   "name": "python",
   "nbconvert_exporter": "python",
   "pygments_lexer": "ipython3",
   "version": "3.7.10"
  }
 },
 "nbformat": 4,
 "nbformat_minor": 5
}
